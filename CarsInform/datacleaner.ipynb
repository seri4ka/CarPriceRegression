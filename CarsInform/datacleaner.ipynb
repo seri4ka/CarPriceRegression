{
 "cells": [
  {
   "cell_type": "code",
   "execution_count": 7,
   "metadata": {},
   "outputs": [],
   "source": [
    "import numpy as np\n",
    "import pandas as pd"
   ]
  },
  {
   "cell_type": "code",
   "execution_count": 8,
   "metadata": {},
   "outputs": [],
   "source": [
    "df1 = pd.DataFrame()\n",
    "df2 = pd.DataFrame()"
   ]
  },
  {
   "cell_type": "code",
   "execution_count": 9,
   "metadata": {},
   "outputs": [],
   "source": [
    "data1 = pd.read_csv('archivecars.csv', sep=',', encoding='utf8')\n",
    "data2 = pd.read_csv('cars.csv', sep=',', encoding='utf8')"
   ]
  },
  {
   "cell_type": "code",
   "execution_count": 10,
   "metadata": {},
   "outputs": [],
   "source": [
    "df1['Mark'] = data1['Марка']\n",
    "df1['Model'] = data1['Модель']\n",
    "df1['Year'] = data1['Год выпуска']\n",
    "df1['Oil'] = data1['Двигатель'].str.split(', ', expand=True)[0]\n",
    "df1['Volume'] = data1['Двигатель'].str.split(', ', expand=True)[1].str.split(' ', expand=True)[0]\n",
    "df1['Power'] = data1['Мощность'].str.split(expand=True)[0]\n",
    "df1['GSB'] = data1['КПП']\n",
    "df1['Drive'] = data1['Привод']\n",
    "df1['Color'] = data1['Цвет']\n",
    "df1['Kilometers'] = data1['Пробег'].str.split().str.join('')\n",
    "df1['Wheel'] = data1['Руль']\n",
    "df1['Generation'] = data1['Поколение']\n",
    "df1['Complectation'] = data1['Комплектация']\n",
    "df1['Price'] = data1['Цена']"
   ]
  },
  {
   "cell_type": "code",
   "execution_count": 11,
   "metadata": {},
   "outputs": [],
   "source": [
    "df2['Mark'] = data2['Марка']\n",
    "df2['Model'] = data2['Модель']\n",
    "df2['Year'] = data2['Год выпуска']\n",
    "df2['Oil'] = data2['Двигатель'].str.split(', ', expand=True)[0]\n",
    "df2['Volume'] = data2['Двигатель'].str.split(', ', expand=True)[1].str.split(' ', expand=True)[0]\n",
    "df2['Power'] = data2['Мощность'].str.split(expand=True)[0]\n",
    "df2['GSB'] = data2['КПП']\n",
    "df2['Drive'] = data2['Привод']\n",
    "df2['Color'] = data2['Цвет']\n",
    "df2['Kilometers'] = data2['Пробег'].str.split().str.join('')\n",
    "df2['Wheel'] = data2['Руль']\n",
    "df2['Generation'] = data2['Поколение']\n",
    "df2['Complectation'] = data2['Комплектация']\n",
    "df2['Price'] = data2['Цена']"
   ]
  },
  {
   "cell_type": "code",
   "execution_count": 12,
   "metadata": {},
   "outputs": [],
   "source": [
    "df1.to_csv('cleararchivecars.csv', encoding='utf8')\n",
    "df2.to_csv('clearcars.csv', encoding='utf8')"
   ]
  }
 ],
 "metadata": {
  "kernelspec": {
   "display_name": "Python 3.9.7 64-bit",
   "language": "python",
   "name": "python3"
  },
  "language_info": {
   "codemirror_mode": {
    "name": "ipython",
    "version": 3
   },
   "file_extension": ".py",
   "mimetype": "text/x-python",
   "name": "python",
   "nbconvert_exporter": "python",
   "pygments_lexer": "ipython3",
   "version": "3.9.7"
  },
  "orig_nbformat": 4,
  "vscode": {
   "interpreter": {
    "hash": "fbe58ca63fe33f9eeae9e71d10368d2b4a57f2b1b395836210cc60d362c66949"
   }
  }
 },
 "nbformat": 4,
 "nbformat_minor": 2
}
